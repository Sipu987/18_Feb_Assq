{
 "cells": [
  {
   "cell_type": "code",
   "execution_count": 1,
   "id": "f508acec-72c8-4985-89cb-3c5f9fdd14d4",
   "metadata": {},
   "outputs": [],
   "source": [
    "#Ans:1: -\n",
    "# API - Application programming interface is a set up function or procedure which allow to create application through \n",
    "# it two software in a computer interact with each other. It is a intermedary between two software interface. \n",
    "# It exchanges data between two software.\n",
    "# Examples - Microsoft Team, JIRA"
   ]
  },
  {
   "cell_type": "code",
   "execution_count": 2,
   "id": "cf3bffab-2cac-4fae-afb5-75a44075d4a7",
   "metadata": {},
   "outputs": [],
   "source": [
    "#Ans:2:-\n",
    "# Advantages:-\n",
    "# 1. Seamless Integration - Easy to integration to other application and services saving time and money.\n",
    "# 2. Increased Efficiency - Allows to easy access to data and functionality without navigating multiple screen \n",
    "\n",
    "# Disadvantage -\n",
    "# 1. Security and Privacy Risks - There is security and privacy risk if not implemented correctly.\n",
    "# 2. High Cost - High cost is involved to prepare and maintain"
   ]
  },
  {
   "cell_type": "code",
   "execution_count": 3,
   "id": "58b92acc-d150-4771-bb53-ef70554a29af",
   "metadata": {},
   "outputs": [],
   "source": [
    "#Ans.3:-\n",
    "# Web API - API over web which can be accessed using HTTP protocol. All APIs are not web services, but Every Web services\n",
    "# are API.API supoorts both XML and JSON, but Web API supoorts only XML. Web service supports only HTTP protocol, \n",
    "# whereas API supports HTTP/HTTPS protocol. API uses all styles of communication but Web APi uses only \n",
    "# three communications styles XML-RPC, SOAP, and REST."
   ]
  },
  {
   "cell_type": "code",
   "execution_count": 4,
   "id": "81512606-aaca-471e-830a-5def75e971f8",
   "metadata": {},
   "outputs": [],
   "source": [
    "#Ans:4-\n",
    "# REST : - Stands for REpresentational state Transfer API. It is software architech which provides set up rules\n",
    "# to developve web API. Architectural style is known as RESTful web service. It is very unfiorm and bound by \n",
    "# predefined rules. Interaction of REST architech happen through HTTP portocol.\n",
    "\n",
    "# SOAP: - Simple object Acess portocol API. It used XML based messaging system.SOAP allows processes to \n",
    "# communicate throughout platforms, languages and operating systems.It's highly secure."
   ]
  },
  {
   "cell_type": "code",
   "execution_count": 5,
   "id": "131d5ca3-33f2-48f7-a83e-c48609b38c64",
   "metadata": {},
   "outputs": [],
   "source": [
    "# Ans:5:-\n",
    "# SOAP maintain strict standard to communicate between client and server. REST is architechtural which does not\n",
    "# maintain high standard. SOAP used XML based messaging system but REST can use like XML, JSON, Plain-text. \n",
    "# REST works over Works over HTTP protocol, SOAP works over HTTP, SMTP, XMPP. SOAP  highyl secure, REST is less\n",
    "# secure from SOAP."
   ]
  },
  {
   "cell_type": "code",
   "execution_count": null,
   "id": "692caf29-37a2-47d8-9479-7c89a4024585",
   "metadata": {},
   "outputs": [],
   "source": []
  }
 ],
 "metadata": {
  "kernelspec": {
   "display_name": "Python 3 (ipykernel)",
   "language": "python",
   "name": "python3"
  },
  "language_info": {
   "codemirror_mode": {
    "name": "ipython",
    "version": 3
   },
   "file_extension": ".py",
   "mimetype": "text/x-python",
   "name": "python",
   "nbconvert_exporter": "python",
   "pygments_lexer": "ipython3",
   "version": "3.10.8"
  }
 },
 "nbformat": 4,
 "nbformat_minor": 5
}
